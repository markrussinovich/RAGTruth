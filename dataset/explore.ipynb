{
 "cells": [
  {
   "cell_type": "code",
   "execution_count": 69,
   "metadata": {},
   "outputs": [],
   "source": [
    "import json\n",
    "\n",
    "def get_info_by_id(response_data, id):\n",
    "\n",
    "    # Find the responses for the given ID\n",
    "    responses = []\n",
    "    for item in response_data:\n",
    "        if item['source_id'] == str(id) and 'labels' in item and item['labels']:\n",
    "            response = {\n",
    "                'model': item['model'],\n",
    "                'response': item['response'],\n",
    "                'labels': item['labels']\n",
    "            }\n",
    "            responses.append(response)\n",
    "\n",
    "    return responses\n",
    "\n",
    "# Read the source_info.jsonl file\n",
    "with open('source_info.jsonl') as f:\n",
    "    source_data = [json.loads(line) for line in f]\n",
    "\n",
    "# Read the response.jsonl file\n",
    "with open('response.jsonl') as f:\n",
    "    response_data = [json.loads(line) for line in f]\n"
   ]
  },
  {
   "cell_type": "code",
   "execution_count": 79,
   "metadata": {},
   "outputs": [
    {
     "name": "stderr",
     "output_type": "stream",
     "text": [
      "  0%|          | 0/2965 [00:00<?, ?it/s]"
     ]
    },
    {
     "name": "stderr",
     "output_type": "stream",
     "text": [
      "  5%|▍         | 145/2965 [00:00<00:13, 209.50it/s]\n"
     ]
    },
    {
     "ename": "UnicodeEncodeError",
     "evalue": "'charmap' codec can't encode character '\\u2011' in position 812: character maps to <undefined>",
     "output_type": "error",
     "traceback": [
      "\u001b[1;31m---------------------------------------------------------------------------\u001b[0m",
      "\u001b[1;31mUnicodeEncodeError\u001b[0m                        Traceback (most recent call last)",
      "Cell \u001b[1;32mIn[79], line 26\u001b[0m\n\u001b[0;32m     24\u001b[0m         \u001b[38;5;66;03m# add to output file\u001b[39;00m\n\u001b[0;32m     25\u001b[0m         \u001b[38;5;28;01mwith\u001b[39;00m \u001b[38;5;28mopen\u001b[39m(\u001b[38;5;124m'\u001b[39m\u001b[38;5;124moutput.html\u001b[39m\u001b[38;5;124m'\u001b[39m, \u001b[38;5;124m'\u001b[39m\u001b[38;5;124ma\u001b[39m\u001b[38;5;124m'\u001b[39m) \u001b[38;5;28;01mas\u001b[39;00m f:\n\u001b[1;32m---> 26\u001b[0m             f\u001b[38;5;241m.\u001b[39mwrite(html)\n\u001b[0;32m     28\u001b[0m \u001b[38;5;66;03m#display(HTML(html))\u001b[39;00m\n",
      "File \u001b[1;32mC:\\Program Files\\WindowsApps\\PythonSoftwareFoundation.Python.3.11_3.11.2288.0_x64__qbz5n2kfra8p0\\Lib\\encodings\\cp1252.py:19\u001b[0m, in \u001b[0;36mIncrementalEncoder.encode\u001b[1;34m(self, input, final)\u001b[0m\n\u001b[0;32m     18\u001b[0m \u001b[38;5;28;01mdef\u001b[39;00m \u001b[38;5;21mencode\u001b[39m(\u001b[38;5;28mself\u001b[39m, \u001b[38;5;28minput\u001b[39m, final\u001b[38;5;241m=\u001b[39m\u001b[38;5;28;01mFalse\u001b[39;00m):\n\u001b[1;32m---> 19\u001b[0m     \u001b[38;5;28;01mreturn\u001b[39;00m codecs\u001b[38;5;241m.\u001b[39mcharmap_encode(\u001b[38;5;28minput\u001b[39m,\u001b[38;5;28mself\u001b[39m\u001b[38;5;241m.\u001b[39merrors,encoding_table)[\u001b[38;5;241m0\u001b[39m]\n",
      "\u001b[1;31mUnicodeEncodeError\u001b[0m: 'charmap' codec can't encode character '\\u2011' in position 812: character maps to <undefined>"
     ]
    }
   ],
   "source": [
    "from tqdm import tqdm\n",
    "from IPython.display import display, HTML\n",
    "\n",
    "# Clear the output file\n",
    "with open('output.html', 'w') as f:\n",
    "    f.write('')\n",
    "\n",
    "# Use tqdm to iterate over source_data with a progress bar\n",
    "for source_info in tqdm(source_data):\n",
    "    id = source_info['source_id']\n",
    "    responses = get_info_by_id(response_data, id)\n",
    "\n",
    "    if responses:\n",
    "        html = ''\n",
    "        prompt = source_info['prompt']\n",
    "        html += f'<h2>ID: {id}</h2>'\n",
    "        html += source_info['prompt'] + '<br>'\n",
    "        for item in responses:\n",
    "            html += f'<h3>{item[\"model\"]}</h3>'\n",
    "            html += item['response'] + '<br>'\n",
    "            for label in item['labels']:\n",
    "                highlighted_text = f'<span style=\"background-color: #00C000; color: black; cursor: pointer;\" title=\"{label[\"meta\"]}\">{label[\"text\"]}</span>'\n",
    "                html = html.replace(label['text'], highlighted_text)\n",
    "        # add to output file\n",
    "        with open('output.html', 'a', encoding='utf-8') as f:\n",
    "            f.write(html) \n",
    "\n",
    "        #display(HTML(html))\n",
    "\n",
    "\n"
   ]
  },
  {
   "cell_type": "code",
   "execution_count": null,
   "metadata": {},
   "outputs": [],
   "source": []
  }
 ],
 "metadata": {
  "kernelspec": {
   "display_name": "Python 3",
   "language": "python",
   "name": "python3"
  },
  "language_info": {
   "codemirror_mode": {
    "name": "ipython",
    "version": 3
   },
   "file_extension": ".py",
   "mimetype": "text/x-python",
   "name": "python",
   "nbconvert_exporter": "python",
   "pygments_lexer": "ipython3",
   "version": "3.11.8"
  }
 },
 "nbformat": 4,
 "nbformat_minor": 2
}
